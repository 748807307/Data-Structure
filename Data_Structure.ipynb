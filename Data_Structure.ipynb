{
  "nbformat": 4,
  "nbformat_minor": 0,
  "metadata": {
    "colab": {
      "provenance": []
    },
    "kernelspec": {
      "name": "python3",
      "display_name": "Python 3"
    },
    "language_info": {
      "name": "python"
    }
  },
  "cells": [
    {
      "cell_type": "markdown",
      "source": [
        "# Data Structure\n"
      ],
      "metadata": {
        "id": "ty24nvyEN1EN"
      }
    },
    {
      "cell_type": "markdown",
      "source": [
        "1. What are data structures, and why are they important?\n",
        " - A data structure is a method of organizing data in a computer program, allowing for efficient storage and access to information based on the situation, and in Python, data structures are crucial because they provide a structured way to store and manipulate collections of data, making your code more organized, efficient, and easier to manage when dealing with complex problems.\n",
        "\n",
        "2. Explain the difference between mutable and immutable data types with example.\n",
        " - In programming, a \"mutable\" data type means you can change its value after it's created, while an \"immutable\" data type cannot be modified once created; essentially, a mutable object can be altered directly, whereas an immutable object requires creating a new object to change its value.\n",
        "  Example:-"
      ],
      "metadata": {
        "id": "xRbnkL0SN97i"
      }
    },
    {
      "cell_type": "code",
      "execution_count": null,
      "metadata": {
        "colab": {
          "base_uri": "https://localhost:8080/"
        },
        "id": "jb7aayieNnlX",
        "outputId": "face16fe-e471-49fa-ba00-534736a83a80"
      },
      "outputs": [
        {
          "output_type": "stream",
          "name": "stdout",
          "text": [
            "[1, 2, 3, 4]\n"
          ]
        }
      ],
      "source": [
        "#mutable\n",
        "\n",
        "my_list = [1,2,3]\n",
        "my_list.append(4)\n",
        "print(my_list)"
      ]
    },
    {
      "cell_type": "code",
      "source": [
        "#immutable\n",
        "\n",
        "my_string = \"hello\"\n",
        "my_string = my_string+ \"world\"\n",
        "print(my_string)"
      ],
      "metadata": {
        "colab": {
          "base_uri": "https://localhost:8080/"
        },
        "id": "Sx7goiFKQ4gL",
        "outputId": "15ab646f-6c94-4539-aef1-2a454d309beb"
      },
      "execution_count": null,
      "outputs": [
        {
          "output_type": "stream",
          "name": "stdout",
          "text": [
            "helloworld\n"
          ]
        }
      ]
    },
    {
      "cell_type": "markdown",
      "source": [
        "3. What are the main differences between lists and tuples in Python?\n",
        " - The primary difference between lists and tuples in Python is that lists are mutable, meaning you can change their elements after creation, while tuples are immutable, which means you cannot modify their contents once they are created; essentially, lists are designed for dynamic data manipulation while tuples are used to store fixed data where changes are not needed.\n",
        "\n",
        "4. Describe how dictionaries store data.\n",
        " - Dictionaries are used to store data values in key:value pairs. A dictionary is a collection which is ordered, changeable and do not allow duplicates.\n",
        "\n",
        "5. Why might you use a set instead of a list in Python?\n",
        " - Since sets do not store indexed data or duplicates, they use less memory than lists and are less computationally expensive.\n",
        "\n",
        "6. What is a string in Python, and how is it different from a list?\n",
        " - In Python, a string is a sequence of characters, while a list is a sequence of values. Strings are immutable, meaning they can't be changed after creation, while lists are mutable and can be modified.\n",
        "\n",
        "7. How do tuples ensure data integrity in Python?\n",
        " - Tuples are immutable to ensure that their contents remain constant throughout their lifecycle, guaranteeing data integrity and reliability. This immutability allows tuples to be used as keys in dictionaries and elements in sets, as they can be hashed.\n",
        "\n",
        "8. What is a hash table, and how does it relate to dictionaries in Python?\n",
        " - A Hash Table in Python is a data structure which stores data by using a pair of values and keys.\n",
        "      In Python, the Dictionary data types represent the implementation of hash tables.\n",
        "    \n",
        "9. Can lists contain different data types in Python?\n",
        " - Although it's not really common, a list can also contain a mix of Python types including strings, floats, and booleans.\n",
        "\n",
        "10. Explain why strings are immutable in Python?\n",
        " -  Strings in Python are “immutable” which means they can not be changed after they are created.\n",
        "11. What advantages do dictionaries offer over lists for certain tasks?\n",
        " - Dictionaries are faster than lists for certain tasks like lookups, configurations, and caches.\n",
        "\n",
        "12. Describe a scenario where using a tuple would be preferable over a list.\n",
        "\n",
        "- Use a tuple if you need an immutable collection where the elements won't change after creation. Tuples are generally faster and more memory-efficient than lists, making them better for fixed collections, especially as dictionary keys or when iteration speed is crucial.\n",
        "\n",
        "13. How do sets handle duplicate values in Python?\n",
        " -  Items of a set in python are immutable (unchangeable), do not duplicate values, and unordered. Thus, items in a set do not appear in a stipulated manner, i.e., they can appear in a different order every time it is used. Due to this, set items cannot be referred to by key or index.\n",
        "\n",
        "14. How does the “in” keyword work differently for lists and dictionaries?\n",
        " -  As mentioned above, the in operation for the dictionary tests on keys. The key of the dictionary is a unique value as well as the set, and the execution time is about the same as for sets. On the other hand, dictionary values can be duplicated like a list.\n",
        "\n",
        "15. Can you modify the elements of a tuple? Explain why or why not?\n",
        " -  No, you cannot modify the elements of a tuple in Python because tuples are immutable.\n",
        "\n",
        "16. What is a nested dictionary, and give an example of its use case?\n",
        " - A nested dictionary is a dictionary that appears as a value within another dictionary. It's a way to organize data into multiple layers.\n",
        "   example - Employee records: Organize employees by department, with each employee's details in a nested dictionary.\n",
        "\n",
        "17. Describe the time complexity of accessing elements in a dictionary?\n",
        " -  Accessing an element in a dictionary typically has a time complexity of O(1), meaning it takes a constant amount of time to retrieve a value based on its key, regardless of the size of the dictionary, on average; however, in the worst case scenario with many collisions, it could reach O(n) where n is the number of elements in the dictionary.\n",
        "\n",
        "18. In what situations are lists preferred over dictionaries?\n",
        " -  For quick data look-ups, configurations, or caches, favor dictionaries. For ordered collections and sequence operations, such as maintaining a stack or queue, lists are more suitable.\n",
        "\n",
        "19. Why are dictionaries considered unordered, and how does that affect data retrieval?\n",
        " -  Dictionaries are considered unordered because they don't maintain a specific order for items, though they may appear to do so in some versions of Python.\n",
        "\n",
        "20. Explain the difference between a list and a dictionary in terms of data retrieval.?\n",
        " - A list retrieves data based on its position (index) within the sequence, while a dictionary retrieves data using a unique key associated with each value, meaning you access elements in a list using their numerical index, whereas in a dictionary, you access elements using their specific key to find the corresponding value; this makes dictionaries significantly faster for lookups when you know the key you need to search for, while lists are better for accessing elements in a specific order."
      ],
      "metadata": {
        "id": "M76Em0PZThQu"
      }
    },
    {
      "cell_type": "code",
      "source": [
        "#1. Write a code to create a string with your name and print it.\n",
        "Name = \"Manish Kumar\"\n",
        "print(Name)"
      ],
      "metadata": {
        "colab": {
          "base_uri": "https://localhost:8080/"
        },
        "id": "jW37x3rPRedQ",
        "outputId": "94ff25d6-ead1-4fd7-8b31-76da259ed46e"
      },
      "execution_count": null,
      "outputs": [
        {
          "output_type": "stream",
          "name": "stdout",
          "text": [
            "Manish Kumar\n"
          ]
        }
      ]
    },
    {
      "cell_type": "code",
      "source": [
        "# 2.Write a code to find the length of the string \"Hello World\".\n",
        "\n",
        "string = \"Hello World\"\n",
        "print(len(string))"
      ],
      "metadata": {
        "colab": {
          "base_uri": "https://localhost:8080/"
        },
        "id": "LhVQ3yDfrmZF",
        "outputId": "c6bc9aa5-1dea-41d3-9ff9-9186497eea7a"
      },
      "execution_count": null,
      "outputs": [
        {
          "output_type": "stream",
          "name": "stdout",
          "text": [
            "11\n"
          ]
        }
      ]
    },
    {
      "cell_type": "code",
      "source": [
        "#3. Write a code to slice the first 3 characters from the string \"Python Programming\".\n",
        "\n",
        "string = \"Python Programming\"\n",
        "print(string[0:3])"
      ],
      "metadata": {
        "colab": {
          "base_uri": "https://localhost:8080/"
        },
        "id": "CltKdr_Tr-vr",
        "outputId": "2dcedb57-e602-4546-c80b-e1fbc340f451"
      },
      "execution_count": null,
      "outputs": [
        {
          "output_type": "stream",
          "name": "stdout",
          "text": [
            "Pyt\n"
          ]
        }
      ]
    },
    {
      "cell_type": "code",
      "source": [
        "# 4.Write a code to convert the string \"hello\" to uppercase.\n",
        "\n",
        "string = \"hello\"\n",
        "string.upper()"
      ],
      "metadata": {
        "colab": {
          "base_uri": "https://localhost:8080/",
          "height": 36
        },
        "id": "H3wA7kYUsdIj",
        "outputId": "be2f31fc-4f29-419f-abb9-95527151a652"
      },
      "execution_count": null,
      "outputs": [
        {
          "output_type": "execute_result",
          "data": {
            "text/plain": [
              "'HELLO'"
            ],
            "application/vnd.google.colaboratory.intrinsic+json": {
              "type": "string"
            }
          },
          "metadata": {},
          "execution_count": 16
        }
      ]
    },
    {
      "cell_type": "code",
      "source": [
        "#5.Write a code to replace the word \"apple\" with \"orange\" in the string \"I like apple\".\n",
        "\n",
        "string = \"I like apple.\"\n",
        "string.replace(\"apple\",\"orange\")"
      ],
      "metadata": {
        "colab": {
          "base_uri": "https://localhost:8080/",
          "height": 36
        },
        "id": "mZ9p4YE3szi_",
        "outputId": "b152ba74-8b39-4e3b-9aa4-54ab4b6c9056"
      },
      "execution_count": null,
      "outputs": [
        {
          "output_type": "execute_result",
          "data": {
            "text/plain": [
              "'I like orange.'"
            ],
            "application/vnd.google.colaboratory.intrinsic+json": {
              "type": "string"
            }
          },
          "metadata": {},
          "execution_count": 17
        }
      ]
    },
    {
      "cell_type": "code",
      "source": [
        "#6.Write a code to create a list with numbers 1 to 5 and print it.\n",
        "\n",
        "list = [1,2,3,4,5]\n",
        "print(list)"
      ],
      "metadata": {
        "colab": {
          "base_uri": "https://localhost:8080/"
        },
        "id": "iR1nQA42teCd",
        "outputId": "d396f8b2-2e7f-44da-ec97-17d7ef2d09f9"
      },
      "execution_count": null,
      "outputs": [
        {
          "output_type": "stream",
          "name": "stdout",
          "text": [
            "[1, 2, 3, 4, 5]\n"
          ]
        }
      ]
    },
    {
      "cell_type": "code",
      "source": [
        "#7. Write a code to append the number 10 to the list [1, 2, 3, 4].\n",
        "\n",
        "list = [1,2,3,4]\n",
        "list.append(10)\n",
        "print(list)"
      ],
      "metadata": {
        "colab": {
          "base_uri": "https://localhost:8080/"
        },
        "id": "PCcRAQI-uQre",
        "outputId": "6b674c23-b7bb-4f2a-f2aa-f5a1cb701a8d"
      },
      "execution_count": null,
      "outputs": [
        {
          "output_type": "stream",
          "name": "stdout",
          "text": [
            "[1, 2, 3, 4, 10]\n"
          ]
        }
      ]
    },
    {
      "cell_type": "code",
      "source": [
        "# 8.Write a code to remove the number 3 from the list [1, 2, 3, 4, 5].\n",
        "\n",
        "list = [1,2,3,4,5]\n",
        "list.remove(3)\n",
        "print(list)"
      ],
      "metadata": {
        "colab": {
          "base_uri": "https://localhost:8080/"
        },
        "id": "3z6OUfhnuoZu",
        "outputId": "df3186ba-f14b-40c4-88b1-a40bf4d06d48"
      },
      "execution_count": null,
      "outputs": [
        {
          "output_type": "stream",
          "name": "stdout",
          "text": [
            "[1, 2, 4, 5]\n"
          ]
        }
      ]
    },
    {
      "cell_type": "code",
      "source": [
        "# 9. Write a code to access the second element in the list ['a', 'b', 'c', 'd'].\n",
        "\n",
        "list = ['a','b','c','d']\n",
        "print(list[1])"
      ],
      "metadata": {
        "colab": {
          "base_uri": "https://localhost:8080/"
        },
        "id": "-iYL_7YkvDTJ",
        "outputId": "a65f358c-1113-4cd4-8ed4-5b45bc08ed2f"
      },
      "execution_count": null,
      "outputs": [
        {
          "output_type": "stream",
          "name": "stdout",
          "text": [
            "b\n"
          ]
        }
      ]
    },
    {
      "cell_type": "code",
      "source": [
        "#10. Write a code to reverse the list [10, 20, 30, 40, 50].\n",
        "\n",
        "list = [10,20,30,40,50]\n",
        "reverse_list = list[::-1]\n",
        "print(reverse_list)"
      ],
      "metadata": {
        "colab": {
          "base_uri": "https://localhost:8080/"
        },
        "id": "FW0UiUvlvt-x",
        "outputId": "183288ae-725c-49cd-eab3-24e730dbc0a3"
      },
      "execution_count": null,
      "outputs": [
        {
          "output_type": "stream",
          "name": "stdout",
          "text": [
            "[50, 40, 30, 20, 10]\n"
          ]
        }
      ]
    },
    {
      "cell_type": "code",
      "source": [
        "#11.Write a code to create a tuple with the elements 100, 200, 300 and print it.\n",
        "\n",
        "tuple =(100,200,300)\n",
        "print(tuple)"
      ],
      "metadata": {
        "colab": {
          "base_uri": "https://localhost:8080/"
        },
        "id": "aL3KwLNGwmN6",
        "outputId": "3be51344-1e24-4d80-97e8-064d51c140bc"
      },
      "execution_count": null,
      "outputs": [
        {
          "output_type": "stream",
          "name": "stdout",
          "text": [
            "(100, 200, 300)\n"
          ]
        }
      ]
    },
    {
      "cell_type": "code",
      "source": [
        "#12. Write a code to access the second-to-last element of the tuple ('red', 'green', 'blue', 'yellow').\n",
        "\n",
        "tuple = ('red', 'green', 'blue', 'yellow')\n",
        "tuple1 = tuple[-2]\n",
        "print(tuple1)"
      ],
      "metadata": {
        "colab": {
          "base_uri": "https://localhost:8080/"
        },
        "id": "Svq_0FBSw_2c",
        "outputId": "434aff6b-192e-49d7-ffe5-1ae0e37db22f"
      },
      "execution_count": null,
      "outputs": [
        {
          "output_type": "stream",
          "name": "stdout",
          "text": [
            "blue\n"
          ]
        }
      ]
    },
    {
      "cell_type": "code",
      "source": [
        "#13. Write a code to find the minimum number in the tuple (10, 20, 5, 15).\n",
        "\n",
        "tuple = (10,20,5,15)\n",
        "print(min(tuple))"
      ],
      "metadata": {
        "colab": {
          "base_uri": "https://localhost:8080/"
        },
        "id": "NZTA6MbKxeKM",
        "outputId": "f98f865c-99c1-454c-cc21-e4a32e656a47"
      },
      "execution_count": null,
      "outputs": [
        {
          "output_type": "stream",
          "name": "stdout",
          "text": [
            "5\n"
          ]
        }
      ]
    },
    {
      "cell_type": "code",
      "source": [
        "#14. Write a code to find the index of the element \"cat\" in the tuple ('dog', 'cat', 'rabbit').\n",
        "\n",
        "tuple = ('dog','cat','rabbit')\n",
        "print(tuple.index('cat'))"
      ],
      "metadata": {
        "colab": {
          "base_uri": "https://localhost:8080/"
        },
        "id": "udV3lXcPydWR",
        "outputId": "da5b8578-f630-433c-d082-371248b663fe"
      },
      "execution_count": 33,
      "outputs": [
        {
          "output_type": "stream",
          "name": "stdout",
          "text": [
            "1\n"
          ]
        }
      ]
    },
    {
      "cell_type": "code",
      "source": [
        "#15.Write a code to create a tuple containing three different fruits and check if \"kiwi\" is in it.\n",
        "\n",
        "tuple = (\"apple\",\"banana\",\"kiwi\")\n",
        "print(\"kiwi\" in tuple)"
      ],
      "metadata": {
        "colab": {
          "base_uri": "https://localhost:8080/"
        },
        "id": "gNZvapMbzU-X",
        "outputId": "b9ede319-04cf-4af0-e588-0e0ac759076f"
      },
      "execution_count": 35,
      "outputs": [
        {
          "output_type": "stream",
          "name": "stdout",
          "text": [
            "True\n"
          ]
        }
      ]
    },
    {
      "cell_type": "code",
      "source": [
        "#16. Write a code to create a set with the elements 'a', 'b', 'c' and print it.\n",
        "\n",
        "set = ('a','b','c')\n",
        "print(set)"
      ],
      "metadata": {
        "colab": {
          "base_uri": "https://localhost:8080/"
        },
        "id": "jobMxof5zzhL",
        "outputId": "4971bb9e-1a67-4579-cb42-9923d5d08cb3"
      },
      "execution_count": 36,
      "outputs": [
        {
          "output_type": "stream",
          "name": "stdout",
          "text": [
            "('a', 'b', 'c')\n"
          ]
        }
      ]
    },
    {
      "cell_type": "code",
      "source": [
        "#17. Write a code to clear all elements from the set {1, 2, 3, 4, 5}.\n",
        "\n",
        "set = {1,2,3,4,5}\n",
        "set.clear()\n",
        "print(set)"
      ],
      "metadata": {
        "colab": {
          "base_uri": "https://localhost:8080/"
        },
        "id": "AOU4bILU0Hyv",
        "outputId": "cd393766-15fe-4f26-fdbf-d6094ea5e4f3"
      },
      "execution_count": 37,
      "outputs": [
        {
          "output_type": "stream",
          "name": "stdout",
          "text": [
            "set()\n"
          ]
        }
      ]
    },
    {
      "cell_type": "code",
      "source": [
        "#18. Write a code to remove the element 4 from the set {1, 2, 3, 4}.\n",
        "\n",
        "set = {1,2,3,4}\n",
        "set.remove(4)\n",
        "print(set)"
      ],
      "metadata": {
        "colab": {
          "base_uri": "https://localhost:8080/"
        },
        "id": "r9pq7v0A0WqM",
        "outputId": "c38a2f73-7192-4aa3-895a-d6583c11555a"
      },
      "execution_count": 38,
      "outputs": [
        {
          "output_type": "stream",
          "name": "stdout",
          "text": [
            "{1, 2, 3}\n"
          ]
        }
      ]
    },
    {
      "cell_type": "code",
      "source": [
        "#19. Write a code to find the union of two sets {1, 2, 3} and {3, 4, 5}.\n",
        "\n",
        "set1 = {1,2,3}\n",
        "set2 = {3,4,5}\n",
        "print(set1.union(set2))"
      ],
      "metadata": {
        "colab": {
          "base_uri": "https://localhost:8080/"
        },
        "id": "nI887pQG0gd9",
        "outputId": "b745d109-ef58-4de8-cf01-6c9031a43896"
      },
      "execution_count": 39,
      "outputs": [
        {
          "output_type": "stream",
          "name": "stdout",
          "text": [
            "{1, 2, 3, 4, 5}\n"
          ]
        }
      ]
    },
    {
      "cell_type": "code",
      "source": [
        "#20. Write a code to find the intersection of two sets {1, 2, 3} and {2, 3, 4}.\n",
        "\n",
        "set1 = {1,2,3}\n",
        "set2 = {2,3,4}\n",
        "print(set1.intersection(set2))"
      ],
      "metadata": {
        "colab": {
          "base_uri": "https://localhost:8080/"
        },
        "id": "x2OsQQRk0uaU",
        "outputId": "24ba5aed-7ea6-4ee2-a136-daae182bd2dd"
      },
      "execution_count": 40,
      "outputs": [
        {
          "output_type": "stream",
          "name": "stdout",
          "text": [
            "{2, 3}\n"
          ]
        }
      ]
    },
    {
      "cell_type": "code",
      "source": [
        "#21. Write a code to create a dictionary with the keys \"name\", \"age\", and \"city\", and print it.\n",
        "\n",
        "dict = {\"name\":\"Manish\",\"age\":20,\"city\":\"Delhi\"}\n",
        "print(dict)"
      ],
      "metadata": {
        "colab": {
          "base_uri": "https://localhost:8080/"
        },
        "id": "m2PAkRgb01he",
        "outputId": "d16ff2a0-6bbd-4212-b330-816752e2afc3"
      },
      "execution_count": 41,
      "outputs": [
        {
          "output_type": "stream",
          "name": "stdout",
          "text": [
            "{'name': 'Manish', 'age': 20, 'city': 'Delhi'}\n"
          ]
        }
      ]
    },
    {
      "cell_type": "code",
      "source": [
        "#22. Write a code to add a new key-value pair \"country\": \"USA\" to the dictionary {'name': 'John', 'age': 25}\n",
        "\n",
        "dic = {'name': 'John', 'age': 25}\n",
        "dic[\"country\"] = \"USA\"\n",
        "print(dic)"
      ],
      "metadata": {
        "colab": {
          "base_uri": "https://localhost:8080/"
        },
        "id": "V6V3hp0R1CsA",
        "outputId": "e76a333d-6aa1-41ab-f548-5dbc8c1d59ad"
      },
      "execution_count": 42,
      "outputs": [
        {
          "output_type": "stream",
          "name": "stdout",
          "text": [
            "{'name': 'John', 'age': 25, 'country': 'USA'}\n"
          ]
        }
      ]
    },
    {
      "cell_type": "code",
      "source": [
        "#23. Write a code to access the value associated with the key \"name\" in the dictionary {'name': 'Alice', 'age': 30}.\n",
        "\n",
        "dic = {'name': 'Alice', 'age': 30}\n",
        "print(dic[\"name\"])"
      ],
      "metadata": {
        "colab": {
          "base_uri": "https://localhost:8080/"
        },
        "id": "rACE1cjV1dKm",
        "outputId": "8a6a1826-4314-4de4-c052-d7311b60bf2a"
      },
      "execution_count": 43,
      "outputs": [
        {
          "output_type": "stream",
          "name": "stdout",
          "text": [
            "Alice\n"
          ]
        }
      ]
    },
    {
      "cell_type": "code",
      "source": [
        "#24. Write a code to remove the key \"age\" from the dictionary {'name': 'Bob', 'age': 22, 'city': 'New York'}.\n",
        "\n",
        "dic = {'name': 'Bob', 'age': 22, 'city': 'New York'}\n",
        "dic.pop(\"age\")\n",
        "print(dic)"
      ],
      "metadata": {
        "colab": {
          "base_uri": "https://localhost:8080/"
        },
        "id": "WSq59GXh1tU_",
        "outputId": "414753ef-eb77-4887-82a1-22cf8b05d0ad"
      },
      "execution_count": 47,
      "outputs": [
        {
          "output_type": "stream",
          "name": "stdout",
          "text": [
            "{'name': 'Bob', 'city': 'New York'}\n"
          ]
        }
      ]
    },
    {
      "cell_type": "code",
      "source": [
        "#25. Write a code to check if the key \"city\" exists in the dictionary {'name': 'Alice', 'city': 'Paris'}\n",
        "\n",
        "dic = {'name': 'Alice', 'city': 'Paris'}\n",
        "print(\"city\" in dic)"
      ],
      "metadata": {
        "colab": {
          "base_uri": "https://localhost:8080/"
        },
        "id": "ZWW41F141_W5",
        "outputId": "4287e395-4493-4e9d-df6d-03421e88bf72"
      },
      "execution_count": 48,
      "outputs": [
        {
          "output_type": "stream",
          "name": "stdout",
          "text": [
            "True\n"
          ]
        }
      ]
    },
    {
      "cell_type": "code",
      "source": [
        "#26. Write a code to create a list, a tuple, and a dictionary, and print them all.\n",
        "\n",
        "\n",
        "list = [1,2,3,4]\n",
        "tuple = (1,2,3,4)\n",
        "dic = {\"name\":\"Manish\",\"age\":20,\"city\":\"Delhi\"}\n",
        "print(list)\n",
        "print(tuple)\n",
        "print(dic)"
      ],
      "metadata": {
        "colab": {
          "base_uri": "https://localhost:8080/"
        },
        "id": "euVEv7O_2Vgu",
        "outputId": "650c3f6f-9556-4b2f-e6b8-ecb0f2207e0c"
      },
      "execution_count": 49,
      "outputs": [
        {
          "output_type": "stream",
          "name": "stdout",
          "text": [
            "[1, 2, 3, 4]\n",
            "(1, 2, 3, 4)\n",
            "{'name': 'Manish', 'age': 20, 'city': 'Delhi'}\n"
          ]
        }
      ]
    },
    {
      "cell_type": "code",
      "source": [
        "#27. Write a code to create a list of 5 random numbers between 1 and 100, sort it in ascending order, and print the\n",
        "# result.(replaced)\n",
        "\n",
        "import random\n",
        "list = []\n",
        "for i in range(5):\n",
        "    list.append(random.randint(1,100))\n",
        "list.sort()\n",
        "print(list)"
      ],
      "metadata": {
        "colab": {
          "base_uri": "https://localhost:8080/"
        },
        "id": "E_NeHEf32jEp",
        "outputId": "eb3e2153-d69e-4de8-c37f-c776132cd6d9"
      },
      "execution_count": 55,
      "outputs": [
        {
          "output_type": "stream",
          "name": "stdout",
          "text": [
            "[31, 65, 88, 92, 92]\n"
          ]
        }
      ]
    },
    {
      "cell_type": "code",
      "source": [
        "#28. Write a code to create a list with strings and print the element at the third index.\n",
        "\n",
        "\n",
        "list = [\"apple\",\"banana\",\"kiwi\",\"mango\"]\n",
        "print(list[2])"
      ],
      "metadata": {
        "colab": {
          "base_uri": "https://localhost:8080/"
        },
        "id": "ZdrlNK503SlS",
        "outputId": "c3e2a1d0-6db6-4586-ec11-e27a82877807"
      },
      "execution_count": 56,
      "outputs": [
        {
          "output_type": "stream",
          "name": "stdout",
          "text": [
            "kiwi\n"
          ]
        }
      ]
    },
    {
      "cell_type": "code",
      "source": [
        "#29. Write a code to combine two dictionaries into one and print the result.\n",
        "\n",
        "dic1 = {\"name\":\"Manish\",\"age\":20,\"city\":\"Delhi\"}\n",
        "dic2 = {\"country\":\"India\",\"state\":\"Delhi\"}\n",
        "dic1.update(dic2)\n",
        "print(dic1)"
      ],
      "metadata": {
        "colab": {
          "base_uri": "https://localhost:8080/"
        },
        "id": "iBjoIhck4CuU",
        "outputId": "9b4f2c75-c336-401e-9cb8-4556d6067393"
      },
      "execution_count": 57,
      "outputs": [
        {
          "output_type": "stream",
          "name": "stdout",
          "text": [
            "{'name': 'Manish', 'age': 20, 'city': 'Delhi', 'country': 'India', 'state': 'Delhi'}\n"
          ]
        }
      ]
    },
    {
      "cell_type": "code",
      "source": [
        "#30. Write a code to convert a list of strings into a set.\n",
        "\n",
        "\n",
        "list = [\"manish\", \"apple\",\"banana\"]\n",
        "set = set(list)\n",
        "print(list)\n",
        "\n",
        "\n"
      ],
      "metadata": {
        "colab": {
          "base_uri": "https://localhost:8080/",
          "height": 219
        },
        "id": "GAeoaDq64O2-",
        "outputId": "a3016f16-7ce8-450e-dfa5-82b45eef60fe"
      },
      "execution_count": 73,
      "outputs": [
        {
          "output_type": "error",
          "ename": "TypeError",
          "evalue": "'set' object is not callable",
          "traceback": [
            "\u001b[0;31m---------------------------------------------------------------------------\u001b[0m",
            "\u001b[0;31mTypeError\u001b[0m                                 Traceback (most recent call last)",
            "\u001b[0;32m<ipython-input-73-477f49e3f926>\u001b[0m in \u001b[0;36m<cell line: 0>\u001b[0;34m()\u001b[0m\n\u001b[1;32m      3\u001b[0m \u001b[0;34m\u001b[0m\u001b[0m\n\u001b[1;32m      4\u001b[0m \u001b[0mlist\u001b[0m \u001b[0;34m=\u001b[0m \u001b[0;34m[\u001b[0m\u001b[0;34m\"manish\"\u001b[0m\u001b[0;34m,\u001b[0m \u001b[0;34m\"apple\"\u001b[0m\u001b[0;34m,\u001b[0m\u001b[0;34m\"banana\"\u001b[0m\u001b[0;34m]\u001b[0m\u001b[0;34m\u001b[0m\u001b[0;34m\u001b[0m\u001b[0m\n\u001b[0;32m----> 5\u001b[0;31m \u001b[0mset\u001b[0m \u001b[0;34m=\u001b[0m \u001b[0mset\u001b[0m\u001b[0;34m(\u001b[0m\u001b[0mlist\u001b[0m\u001b[0;34m)\u001b[0m\u001b[0;34m\u001b[0m\u001b[0;34m\u001b[0m\u001b[0m\n\u001b[0m\u001b[1;32m      6\u001b[0m \u001b[0mprint\u001b[0m\u001b[0;34m(\u001b[0m\u001b[0mlist\u001b[0m\u001b[0;34m)\u001b[0m\u001b[0;34m\u001b[0m\u001b[0;34m\u001b[0m\u001b[0m\n\u001b[1;32m      7\u001b[0m \u001b[0;34m\u001b[0m\u001b[0m\n",
            "\u001b[0;31mTypeError\u001b[0m: 'set' object is not callable"
          ]
        }
      ]
    },
    {
      "cell_type": "code",
      "source": [],
      "metadata": {
        "id": "UrKA2_UN4YhC"
      },
      "execution_count": null,
      "outputs": []
    }
  ]
}